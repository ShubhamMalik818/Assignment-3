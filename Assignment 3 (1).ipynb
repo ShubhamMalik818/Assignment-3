{
 "cells": [
  {
   "cell_type": "code",
   "execution_count": null,
   "id": "6cc0017e-73b1-4db4-88ae-6f2e92926257",
   "metadata": {},
   "outputs": [],
   "source": [
    "1. Scenario: A company wants to analyze the sales performance of its products in different regions. They have collected the following data:\n",
    "    Region A: [10, 15, 12, 8, 14]\n",
    "    Region B: [18, 20, 16, 22, 25]\n",
    "    Calculate the mean sales for each region."
   ]
  },
  {
   "cell_type": "code",
   "execution_count": 6,
   "id": "6054006b-26fd-4bbd-b380-ad97e5414ca9",
   "metadata": {},
   "outputs": [
    {
     "name": "stdout",
     "output_type": "stream",
     "text": [
      "Mean sales for Region A: 11.8\n",
      "Mean sales for Region B: 20.2\n"
     ]
    }
   ],
   "source": [
    "# Sales data for each region\n",
    "sales_a = [10, 15, 12, 8, 14]\n",
    "sales_b = [18, 20, 16, 22, 25]\n",
    "\n",
    "# Calculate the mean sales for each region\n",
    "mean_a = sum(sales_a) / len(sales_a)\n",
    "mean_b = sum(sales_b) / len(sales_b)\n",
    "\n",
    "# Print the mean sales for each region\n",
    "print(\"Mean sales for Region A:\", mean_a)\n",
    "print(\"Mean sales for Region B:\", mean_b)"
   ]
  },
  {
   "cell_type": "code",
   "execution_count": null,
   "id": "53736ba5-5b5c-4123-8358-9453a0a83772",
   "metadata": {},
   "outputs": [],
   "source": [
    "2. Scenario: A survey is conducted to measure customer satisfaction on a scale of 1 to 5. The data collected is as follows:\n",
    "    [4, 5, 2, 3, 5, 4, 3, 2, 4, 5]\n",
    "    Calculate the mode of the survey responses."
   ]
  },
  {
   "cell_type": "code",
   "execution_count": 7,
   "id": "2e62fe1f-0af0-416a-bd9c-5c2752042e51",
   "metadata": {},
   "outputs": [
    {
     "name": "stdout",
     "output_type": "stream",
     "text": [
      "Mode of the survey responses: 4\n"
     ]
    }
   ],
   "source": [
    "import statistics\n",
    "\n",
    "survey_responses = [4, 5, 2, 3, 5, 4, 3, 2, 4, 5]\n",
    "mode = statistics.mode(survey_responses)\n",
    "\n",
    "print(\"Mode of the survey responses:\", mode)"
   ]
  },
  {
   "cell_type": "code",
   "execution_count": null,
   "id": "5a6d4a3b-9cbd-4b49-b556-9dc7cfd18a55",
   "metadata": {},
   "outputs": [],
   "source": [
    "3. Scenario: A company wants to compare the salaries of two departments. The salary data for Department A and Department B are as follows:\n",
    "    Department A: [5000, 6000, 5500, 7000]\n",
    "    Department B: [4500, 5500, 5800, 6000, 5200]\n",
    "    Calculate the median salary for each department."
   ]
  },
  {
   "cell_type": "code",
   "execution_count": 8,
   "id": "649c3b1c-1e0a-47b6-b871-104db994f72b",
   "metadata": {},
   "outputs": [
    {
     "name": "stdout",
     "output_type": "stream",
     "text": [
      "Median salary for Department A: 5750.0\n",
      "Median salary for Department B: 5500\n"
     ]
    }
   ],
   "source": [
    "import statistics\n",
    "\n",
    "salary_department_a = [5000, 6000, 5500, 7000]\n",
    "salary_department_b = [4500, 5500, 5800, 6000, 5200]\n",
    "\n",
    "median_a = statistics.median(salary_department_a)\n",
    "median_b = statistics.median(salary_department_b)\n",
    "\n",
    "print(\"Median salary for Department A:\", median_a)\n",
    "print(\"Median salary for Department B:\", median_b)"
   ]
  },
  {
   "cell_type": "code",
   "execution_count": null,
   "id": "ad5a5dd4-aa94-4190-9716-61a79541bc4f",
   "metadata": {},
   "outputs": [],
   "source": [
    "4. Scenario: A data analyst wants to determine the variability in the daily stock prices of a company. The data collected is as follows:\n",
    "    [25.5, 24.8, 26.1, 25.3, 24.9]\n",
    "    Calculate the range of the stock prices."
   ]
  },
  {
   "cell_type": "code",
   "execution_count": 9,
   "id": "75eb8f2b-0954-4f7f-bee9-6be58531dc47",
   "metadata": {},
   "outputs": [
    {
     "name": "stdout",
     "output_type": "stream",
     "text": [
      "Range of stock prices: 1.3000000000000007\n"
     ]
    }
   ],
   "source": [
    "stock_prices = [25.5, 24.8, 26.1, 25.3, 24.9]\n",
    "price_range = max(stock_prices) - min(stock_prices)\n",
    "\n",
    "print(\"Range of stock prices:\", price_range)"
   ]
  },
  {
   "cell_type": "code",
   "execution_count": null,
   "id": "24ecd4e7-eaa9-41f7-bb17-e32d025b852f",
   "metadata": {},
   "outputs": [],
   "source": [
    "5. Scenario: A study is conducted to compare the performance of two different teaching methods. The test scores of the students in each group are \n",
    "   as follows:\n",
    "   \n",
    "    Group A: [85, 90, 92, 88, 91]\n",
    "    Group B: [82, 88, 90, 86, 87]\n",
    "    Perform a t-test to determine if there is a significant difference in the mean scores between the two groups."
   ]
  },
  {
   "cell_type": "code",
   "execution_count": 10,
   "id": "32c99c68-7406-4a93-893b-56f6096e0dad",
   "metadata": {},
   "outputs": [
    {
     "name": "stdout",
     "output_type": "stream",
     "text": [
      "T-statistic: 1.4312528946642733\n",
      "P-value: 0.19023970239078333\n"
     ]
    }
   ],
   "source": [
    "import scipy.stats as stats\n",
    "\n",
    "group_a = [85, 90, 92, 88, 91]\n",
    "group_b = [82, 88, 90, 86, 87]\n",
    "\n",
    "t_statistic, p_value = stats.ttest_ind(group_a, group_b)\n",
    "\n",
    "print(\"T-statistic:\", t_statistic)\n",
    "print(\"P-value:\", p_value)"
   ]
  },
  {
   "cell_type": "code",
   "execution_count": null,
   "id": "1e579d90-69e9-4353-8285-15196ce37bf1",
   "metadata": {},
   "outputs": [],
   "source": [
    "6. Scenario: A company wants to analyze the relationship between advertising expenditure and sales. The data collected is as follows:\n",
    "    Advertising Expenditure (in thousands): [10, 15, 12, 8, 14]\n",
    "    Sales (in thousands): [25, 30, 28, 20, 26]\n",
    "    Calculate the correlation coefficient between advertising expenditure and sales."
   ]
  },
  {
   "cell_type": "code",
   "execution_count": 11,
   "id": "95c08912-81aa-49f5-a6db-98b0bdedc703",
   "metadata": {},
   "outputs": [
    {
     "name": "stdout",
     "output_type": "stream",
     "text": [
      "Correlation coefficient: 0.8757511375750132\n"
     ]
    }
   ],
   "source": [
    "import numpy as np\n",
    "\n",
    "advertising_expenditure = [10, 15, 12, 8, 14]\n",
    "sales = [25, 30, 28, 20, 26]\n",
    "\n",
    "correlation_matrix = np.corrcoef(advertising_expenditure, sales)\n",
    "correlation_coefficient = correlation_matrix[0, 1]\n",
    "\n",
    "print(\"Correlation coefficient:\", correlation_coefficient)"
   ]
  },
  {
   "cell_type": "code",
   "execution_count": null,
   "id": "2285f5de-7f02-46bd-bc8c-fd5b4390035a",
   "metadata": {},
   "outputs": [],
   "source": [
    "7. Scenario: A survey is conducted to measure the heights of a group of people. The data collected is as follows:\n",
    "    [160, 170, 165, 155, 175, 180, 170]\n",
    "    Calculate the standard deviation of the heights."
   ]
  },
  {
   "cell_type": "code",
   "execution_count": 12,
   "id": "72bf1de3-a08b-41c7-b223-157a315f8c9f",
   "metadata": {},
   "outputs": [
    {
     "name": "stdout",
     "output_type": "stream",
     "text": [
      "Standard deviation of heights: 7.953949089757174\n"
     ]
    }
   ],
   "source": [
    "import numpy as np\n",
    "\n",
    "heights = [160, 170, 165, 155, 175, 180, 170]\n",
    "\n",
    "standard_deviation = np.std(heights)\n",
    "\n",
    "print(\"Standard deviation of heights:\", standard_deviation)"
   ]
  },
  {
   "cell_type": "code",
   "execution_count": null,
   "id": "51dbaa47-34df-45c4-9668-3bc3ce4d7306",
   "metadata": {},
   "outputs": [],
   "source": [
    "8. Scenario: A company wants to analyze the relationship between employee tenure and job satisfaction. The data collected is as follows:\n",
    "    Employee Tenure (in years): [2, 3, 5, 4, 6, 2, 4]\n",
    "    Job Satisfaction (on a scale of 1 to 10): [7, 8, 6, 9, 5, 7, 6]\n",
    "    Perform a linear regression analysis to predict job satisfaction based on employee tenure."
   ]
  },
  {
   "cell_type": "code",
   "execution_count": 13,
   "id": "1497c981-23f2-4ef3-aac4-bc54b8c83958",
   "metadata": {},
   "outputs": [
    {
     "name": "stdout",
     "output_type": "stream",
     "text": [
      "Slope: -0.4680851063829787\n",
      "Intercept: 8.595744680851062\n",
      "R-value: -0.520573376708331\n",
      "P-value: 0.23095550952297988\n",
      "Standard error: 0.34333860006713723\n"
     ]
    }
   ],
   "source": [
    "import scipy.stats as stats\n",
    "\n",
    "employee_tenure = [2, 3, 5, 4, 6, 2, 4]\n",
    "job_satisfaction = [7, 8, 6, 9, 5, 7, 6]\n",
    "\n",
    "slope, intercept, r_value, p_value, std_err = stats.linregress(employee_tenure, job_satisfaction)\n",
    "\n",
    "print(\"Slope:\", slope)\n",
    "print(\"Intercept:\", intercept)\n",
    "print(\"R-value:\", r_value)\n",
    "print(\"P-value:\", p_value)\n",
    "print(\"Standard error:\", std_err)"
   ]
  },
  {
   "cell_type": "code",
   "execution_count": null,
   "id": "bf3c7bd0-272f-4a5e-b3aa-e98caac0eb7b",
   "metadata": {},
   "outputs": [],
   "source": [
    "9. Scenario: A study is conducted to compare the effectiveness of two different medications. The recovery times of the patients in each group are as follows:\n",
    "    Medication A: [10, 12, 14, 11, 13]\n",
    "    Medication B: [15, 17, 16, 14, 18]\n",
    "    Perform an analysis of variance (ANOVA) to determine if there is a significant difference in the mean recovery times between the two medications."
   ]
  },
  {
   "cell_type": "code",
   "execution_count": 14,
   "id": "9f50fe04-01f6-45bf-bdc3-6782cf4cac1c",
   "metadata": {},
   "outputs": [
    {
     "name": "stdout",
     "output_type": "stream",
     "text": [
      "F-statistic: 16.0\n",
      "P-value: 0.003949772803445326\n"
     ]
    }
   ],
   "source": [
    "import scipy.stats as stats\n",
    "\n",
    "medication_a = [10, 12, 14, 11, 13]\n",
    "medication_b = [15, 17, 16, 14, 18]\n",
    "\n",
    "f_statistic, p_value = stats.f_oneway(medication_a, medication_b)\n",
    "\n",
    "print(\"F-statistic:\", f_statistic)\n",
    "print(\"P-value:\", p_value)"
   ]
  },
  {
   "cell_type": "code",
   "execution_count": null,
   "id": "91d21775-f27d-46fd-9cac-075625841c15",
   "metadata": {},
   "outputs": [],
   "source": [
    "10. Scenario: A company wants to analyze customer feedback ratings on a scale of 1 to 10. The data collected is as follows:\n",
    "    [8, 9, 7, 6, 8, 10, 9, 8, 7, 8]\n",
    "    Calculate the 75th percentile of the feedback ratings."
   ]
  },
  {
   "cell_type": "code",
   "execution_count": 15,
   "id": "f375faa8-e44b-43e9-aa12-d893b80f8acc",
   "metadata": {},
   "outputs": [
    {
     "name": "stdout",
     "output_type": "stream",
     "text": [
      "75th percentile of feedback ratings: 8.75\n"
     ]
    }
   ],
   "source": [
    "import numpy as np\n",
    "\n",
    "feedback_ratings = [8, 9, 7, 6, 8, 10, 9, 8, 7, 8]\n",
    "percentile_75 = np.percentile(feedback_ratings, 75)\n",
    "\n",
    "print(\"75th percentile of feedback ratings:\", percentile_75)"
   ]
  },
  {
   "cell_type": "code",
   "execution_count": null,
   "id": "f6c878f8-fce6-4a00-958d-10755a38ec09",
   "metadata": {},
   "outputs": [],
   "source": [
    "11. Scenario: A quality control department wants to test the weight consistency of a product. The weights of a sample of products are as follows:\n",
    "    [10.2, 9.8, 10.0, 10.5, 10.3, 10.1]\n",
    "    Perform a hypothesis test to determine if the mean weight differs significantly from 10 grams."
   ]
  },
  {
   "cell_type": "code",
   "execution_count": 16,
   "id": "36ac1779-4b1c-4481-8f3b-325c33d13305",
   "metadata": {},
   "outputs": [
    {
     "name": "stdout",
     "output_type": "stream",
     "text": [
      "T-statistic: 1.5126584522688367\n",
      "P-value: 0.19077595151110102\n"
     ]
    }
   ],
   "source": [
    "import scipy.stats as stats\n",
    "\n",
    "weights = [10.2, 9.8, 10.0, 10.5, 10.3, 10.1]\n",
    "hypothesized_mean = 10\n",
    "\n",
    "t_statistic, p_value = stats.ttest_1samp(weights, hypothesized_mean)\n",
    "\n",
    "print(\"T-statistic:\", t_statistic)\n",
    "print(\"P-value:\", p_value)"
   ]
  },
  {
   "cell_type": "code",
   "execution_count": null,
   "id": "d7cf3311-2e69-413e-8e6d-85e857816b45",
   "metadata": {},
   "outputs": [],
   "source": [
    "12. Scenario: A company wants to analyze the click-through rates of two different website designs. The number of clicks for each design is as follows:\n",
    "    Design A: [100, 120, 110, 90, 95]\n",
    "    Design B: [80, 85, 90, 95, 100]\n",
    "    Perform a chi-square test to determine if there is a significant difference in the click-through rates between the two designs."
   ]
  },
  {
   "cell_type": "code",
   "execution_count": 17,
   "id": "6b53d5cb-27de-4b98-9c8c-9a555ceeae58",
   "metadata": {},
   "outputs": [
    {
     "name": "stdout",
     "output_type": "stream",
     "text": [
      "Chi-square statistic: 6.110658166925435\n",
      "P-value: 0.19103526314060293\n"
     ]
    }
   ],
   "source": [
    "import scipy.stats as stats\n",
    "import numpy as np\n",
    "\n",
    "design_a = [100, 120, 110, 90, 95]\n",
    "design_b = [80, 85, 90, 95, 100]\n",
    "\n",
    "observed_frequencies = np.array([design_a, design_b])\n",
    "\n",
    "chi2_statistic, p_value, _, _ = stats.chi2_contingency(observed_frequencies)\n",
    "\n",
    "print(\"Chi-square statistic:\", chi2_statistic)\n",
    "print(\"P-value:\", p_value)"
   ]
  },
  {
   "cell_type": "code",
   "execution_count": null,
   "id": "011c8603-1b16-4db4-90ed-5e0e014a5890",
   "metadata": {},
   "outputs": [],
   "source": [
    "13. Scenario: A survey is conducted to measure customer satisfaction with a product on a scale of 1 to 10. The data collected is as follows:\n",
    "    [7, 9, 6, 8, 10, 7, 8, 9, 7, 8]\n",
    "    Calculate the 95% confidence interval for the population mean satisfaction score."
   ]
  },
  {
   "cell_type": "code",
   "execution_count": 18,
   "id": "c1435908-9f06-49b7-b5eb-0b042e241566",
   "metadata": {},
   "outputs": [
    {
     "name": "stdout",
     "output_type": "stream",
     "text": [
      "95% Confidence Interval: (7.043561120599888, 8.756438879400113)\n"
     ]
    }
   ],
   "source": [
    "import scipy.stats as stats\n",
    "import numpy as np\n",
    "\n",
    "satisfaction_scores = [7, 9, 6, 8, 10, 7, 8, 9, 7, 8]\n",
    "confidence_level = 0.95\n",
    "\n",
    "sample_mean = np.mean(satisfaction_scores)\n",
    "sample_standard_deviation = np.std(satisfaction_scores, ddof=1)\n",
    "sample_size = len(satisfaction_scores)\n",
    "\n",
    "confidence_interval = stats.t.interval(confidence_level, df=sample_size-1, loc=sample_mean, scale=sample_standard_deviation/np.sqrt(sample_size))\n",
    "\n",
    "print(\"95% Confidence Interval:\", confidence_interval)"
   ]
  },
  {
   "cell_type": "code",
   "execution_count": null,
   "id": "e756d02c-f449-49f1-a6cc-e03f9514e9d5",
   "metadata": {},
   "outputs": [],
   "source": [
    "14. Scenario: A company wants to analyze the effect of temperature on product performance. The data collected is as follows:\n",
    "    Temperature (in degrees Celsius): [20, 22, 23, 19, 21]\n",
    "    Performance (on a scale of 1 to 10): [8, 7, 9, 6, 8]\n",
    "    Perform a simple linear regression to predict performance based on temperature."
   ]
  },
  {
   "cell_type": "code",
   "execution_count": 19,
   "id": "78001a43-8e55-4e90-87e7-392685c3ac82",
   "metadata": {},
   "outputs": [
    {
     "name": "stdout",
     "output_type": "stream",
     "text": [
      "Slope: 0.5\n",
      "Intercept: -2.9000000000000004\n",
      "R-value: 0.6933752452815364\n",
      "P-value: 0.19417134561205843\n",
      "Standard error: 0.30000000000000004\n"
     ]
    }
   ],
   "source": [
    "import scipy.stats as stats\n",
    "import numpy as np\n",
    "\n",
    "temperature = [20, 22, 23, 19, 21]\n",
    "performance = [8, 7, 9, 6, 8]\n",
    "\n",
    "slope, intercept, r_value, p_value, std_err = stats.linregress(temperature, performance)\n",
    "\n",
    "print(\"Slope:\", slope)\n",
    "print(\"Intercept:\", intercept)\n",
    "print(\"R-value:\", r_value)\n",
    "print(\"P-value:\", p_value)\n",
    "print(\"Standard error:\", std_err)"
   ]
  },
  {
   "cell_type": "code",
   "execution_count": null,
   "id": "a5dbcc86-c687-4785-b3df-3115c964f0dc",
   "metadata": {},
   "outputs": [],
   "source": [
    "15. Scenario: A study is conducted to compare the preferences of two groups of participants. The preferences are measured on a Likert scale from \n",
    "    1 to 5. The data collected is as follows:\n",
    "    Group A: [4, 3, 5, 2, 4]\n",
    "    Group B: [3, 2, 4, 3, 3]\n",
    "    Perform a Mann-Whitney U test to determine if there is a significant difference in the median preferences between the two groups."
   ]
  },
  {
   "cell_type": "code",
   "execution_count": 20,
   "id": "c935f842-d9be-47c1-a52e-5de7136833d5",
   "metadata": {},
   "outputs": [
    {
     "name": "stdout",
     "output_type": "stream",
     "text": [
      "Mann-Whitney U statistic: 17.0\n",
      "P-value: 0.380836480306712\n"
     ]
    }
   ],
   "source": [
    "import scipy.stats as stats\n",
    "\n",
    "group_a = [4, 3, 5, 2, 4]\n",
    "group_b = [3, 2, 4, 3, 3]\n",
    "\n",
    "statistic, p_value = stats.mannwhitneyu(group_a, group_b)\n",
    "\n",
    "print(\"Mann-Whitney U statistic:\", statistic)\n",
    "print(\"P-value:\", p_value)"
   ]
  },
  {
   "cell_type": "code",
   "execution_count": null,
   "id": "a5323dfd-c664-474c-b806-ad3d558e7bf5",
   "metadata": {},
   "outputs": [],
   "source": [
    "16. Scenario: A company wants to analyze the distribution of customer ages. The data collected is as follows:\n",
    "    [25, 30, 35, 40, 45, 50, 55, 60, 65, 70]\n",
    "    Calculate the interquartile range (IQR) of the ages."
   ]
  },
  {
   "cell_type": "code",
   "execution_count": 21,
   "id": "9e5935e1-0875-4cdf-8a25-d64aea63dfb7",
   "metadata": {},
   "outputs": [
    {
     "name": "stdout",
     "output_type": "stream",
     "text": [
      "Interquartile Range (IQR): 22.5\n"
     ]
    }
   ],
   "source": [
    "import numpy as np\n",
    "\n",
    "ages = [25, 30, 35, 40, 45, 50, 55, 60, 65, 70]\n",
    "q1 = np.percentile(ages, 25)\n",
    "q3 = np.percentile(ages, 75)\n",
    "iqr = q3 - q1\n",
    "\n",
    "print(\"Interquartile Range (IQR):\", iqr)"
   ]
  },
  {
   "cell_type": "code",
   "execution_count": null,
   "id": "d1d88ade-90e4-4383-9081-9ae36e13ae93",
   "metadata": {},
   "outputs": [],
   "source": [
    "17. Scenario: A study is conducted to compare the performance of three different machine learning algorithms. The accuracy scores for each algorithm are as follows:\n",
    "    Algorithm A: [0.85, 0.80, 0.82, 0.87, 0.83]\n",
    "    Algorithm B: [0.78, 0.82, 0.84, 0.80, 0.79]\n",
    "    Algorithm C: [0.90, 0.88, 0.89, 0.86, 0.87]\n",
    "    Perform a Kruskal-Wallis test to determine if there is a significant difference in the median accuracy scores between the algorithms."
   ]
  },
  {
   "cell_type": "code",
   "execution_count": 22,
   "id": "59703525-4108-436a-b861-224d48d7bdef",
   "metadata": {},
   "outputs": [
    {
     "name": "stdout",
     "output_type": "stream",
     "text": [
      "Kruskal-Wallis statistic: 9.696947935368053\n",
      "P-value: 0.007840333026249539\n"
     ]
    }
   ],
   "source": [
    "import scipy.stats as stats\n",
    "\n",
    "algorithm_a = [0.85, 0.80, 0.82, 0.87, 0.83]\n",
    "algorithm_b = [0.78, 0.82, 0.84, 0.80, 0.79]\n",
    "algorithm_c = [0.90, 0.88, 0.89, 0.86, 0.87]\n",
    "\n",
    "statistic, p_value = stats.kruskal(algorithm_a, algorithm_b, algorithm_c)\n",
    "\n",
    "print(\"Kruskal-Wallis statistic:\", statistic)\n",
    "print(\"P-value:\", p_value)"
   ]
  },
  {
   "cell_type": "code",
   "execution_count": null,
   "id": "4be49ce5-01d5-4a82-9876-ba9fc8e98a64",
   "metadata": {},
   "outputs": [],
   "source": [
    "18. Scenario: A company wants to analyze the effect of price on sales. The data collected is as follows:\n",
    "    Price (in dollars): [10, 15, 12, 8, 14]\n",
    "    Sales: [100, 80, 90, 110, 95]\n",
    "    Perform a simple linear regression to predict sales based on price."
   ]
  },
  {
   "cell_type": "code",
   "execution_count": 23,
   "id": "b086e594-3a83-4274-879d-76485a511426",
   "metadata": {},
   "outputs": [
    {
     "name": "stdout",
     "output_type": "stream",
     "text": [
      "Slope: -3.506097560975609\n",
      "Intercept: 136.3719512195122\n",
      "R-value: -0.8979991308594848\n",
      "P-value: 0.03850178234753776\n",
      "Standard error: 0.9918303504036147\n"
     ]
    }
   ],
   "source": [
    "import scipy.stats as stats\n",
    "import numpy as np\n",
    "\n",
    "price = [10, 15, 12, 8, 14]\n",
    "sales = [100, 80, 90, 110, 95]\n",
    "\n",
    "slope, intercept, r_value, p_value, std_err = stats.linregress(price, sales)\n",
    "\n",
    "print(\"Slope:\", slope)\n",
    "print(\"Intercept:\", intercept)\n",
    "print(\"R-value:\", r_value)\n",
    "print(\"P-value:\", p_value)\n",
    "print(\"Standard error:\", std_err)"
   ]
  },
  {
   "cell_type": "code",
   "execution_count": null,
   "id": "6935786d-a92d-42fa-abe5-858fceac41c4",
   "metadata": {},
   "outputs": [],
   "source": [
    "19. Scenario: A survey is conducted to measure the satisfaction levels of customers with a new product. The data collected is as follows:\n",
    "    [7, 8, 9, 6, 8, 7, 9, 7, 8, 7]\n",
    "    Calculate the standard error of the mean satisfaction score."
   ]
  },
  {
   "cell_type": "code",
   "execution_count": 24,
   "id": "733103e9-e3c1-4fec-afdb-6fadce242e4e",
   "metadata": {},
   "outputs": [
    {
     "name": "stdout",
     "output_type": "stream",
     "text": [
      "Standard Error of the Mean: 0.28982753492378877\n"
     ]
    }
   ],
   "source": [
    "import numpy as np\n",
    "\n",
    "satisfaction_scores = [7, 8, 9, 6, 8, 7, 9, 7, 8, 7]\n",
    "standard_error = np.std(satisfaction_scores) / np.sqrt(len(satisfaction_scores))\n",
    "\n",
    "print(\"Standard Error of the Mean:\", standard_error)"
   ]
  },
  {
   "cell_type": "code",
   "execution_count": null,
   "id": "a6992c16-0b44-4afc-b4c1-f98da85a05f8",
   "metadata": {},
   "outputs": [],
   "source": [
    "20. Scenario: A company wants to analyze the relationship between advertising expenditure and sales. The data collected is as follows:\n",
    "    Advertising Expenditure (in thousands): [10, 15, 12, 8, 14]\n",
    "    Sales (in thousands): [25, 30, 28, 20, 26]\n",
    "    Perform a multiple regression analysis to predict sales based on advertising expenditure."
   ]
  },
  {
   "cell_type": "code",
   "execution_count": 25,
   "id": "15bca62a-5bd4-47d3-b935-dc154cfaff1c",
   "metadata": {},
   "outputs": [
    {
     "name": "stdout",
     "output_type": "stream",
     "text": [
      "                            OLS Regression Results                            \n",
      "==============================================================================\n",
      "Dep. Variable:                      y   R-squared:                       0.767\n",
      "Model:                            OLS   Adj. R-squared:                  0.689\n",
      "Method:                 Least Squares   F-statistic:                     9.872\n",
      "Date:                Mon, 10 Jul 2023   Prob (F-statistic):             0.0516\n",
      "Time:                        07:26:14   Log-Likelihood:                -9.5288\n",
      "No. Observations:                   5   AIC:                             23.06\n",
      "Df Residuals:                       3   BIC:                             22.28\n",
      "Df Model:                           1                                         \n",
      "Covariance Type:            nonrobust                                         \n",
      "==============================================================================\n",
      "                 coef    std err          t      P>|t|      [0.025      0.975]\n",
      "------------------------------------------------------------------------------\n",
      "const         12.2012      4.429      2.755      0.070      -1.893      26.296\n",
      "x1             1.1524      0.367      3.142      0.052      -0.015       2.320\n",
      "==============================================================================\n",
      "Omnibus:                          nan   Durbin-Watson:                   1.136\n",
      "Prob(Omnibus):                    nan   Jarque-Bera (JB):                0.546\n",
      "Skew:                          -0.267   Prob(JB):                        0.761\n",
      "Kurtosis:                       1.471   Cond. No.                         57.3\n",
      "==============================================================================\n",
      "\n",
      "Notes:\n",
      "[1] Standard Errors assume that the covariance matrix of the errors is correctly specified.\n"
     ]
    },
    {
     "name": "stderr",
     "output_type": "stream",
     "text": [
      "/opt/conda/lib/python3.10/site-packages/statsmodels/stats/stattools.py:74: ValueWarning: omni_normtest is not valid with less than 8 observations; 5 samples were given.\n",
      "  warn(\"omni_normtest is not valid with less than 8 observations; %i \"\n"
     ]
    }
   ],
   "source": [
    "import statsmodels.api as sm\n",
    "import numpy as np\n",
    "\n",
    "advertising_expenditure = [10, 15, 12, 8, 14]\n",
    "sales = [25, 30, 28, 20, 26]\n",
    "\n",
    "# Add a constant term to the independent variables\n",
    "X = sm.add_constant(advertising_expenditure)\n",
    "# Fit the multiple regression model\n",
    "model = sm.OLS(sales, X)\n",
    "results = model.fit()\n",
    "\n",
    "# Print the regression results\n",
    "print(results.summary())"
   ]
  }
 ],
 "metadata": {
  "kernelspec": {
   "display_name": "Python 3 (ipykernel)",
   "language": "python",
   "name": "python3"
  },
  "language_info": {
   "codemirror_mode": {
    "name": "ipython",
    "version": 3
   },
   "file_extension": ".py",
   "mimetype": "text/x-python",
   "name": "python",
   "nbconvert_exporter": "python",
   "pygments_lexer": "ipython3",
   "version": "3.10.8"
  }
 },
 "nbformat": 4,
 "nbformat_minor": 5
}
